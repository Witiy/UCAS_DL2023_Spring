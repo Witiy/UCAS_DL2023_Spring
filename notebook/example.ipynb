{
 "cells": [
  {
   "cell_type": "code",
   "execution_count": 1,
   "id": "28adcccd",
   "metadata": {
    "pycharm": {
     "name": "#%%\n"
    }
   },
   "outputs": [],
   "source": [
    "%matplotlib inline"
   ]
  },
  {
   "cell_type": "code",
   "execution_count": 2,
   "id": "706f7d15",
   "metadata": {
    "pycharm": {
     "name": "#%%\n"
    }
   },
   "outputs": [],
   "source": [
    "import sys\n",
    "import os\n",
    "import torch\n",
    "PROJ_DIR = '/mnt/c/Code/DL23spring/'\n",
    "sys.path.append(PROJ_DIR)\n",
    "cuda = True\n",
    "if cuda:\n",
    "    device = torch.device(\"cuda:0\")\n",
    "\n",
    "else:\n",
    "    device = torch.device(\"cpu\")"
   ]
  },
  {
   "cell_type": "markdown",
   "id": "8fdbb840",
   "metadata": {
    "pycharm": {
     "name": "#%% md\n"
    }
   },
   "source": [
    "## Change the dataset path into your own path"
   ]
  },
  {
   "cell_type": "code",
   "execution_count": 3,
   "id": "079802cd",
   "metadata": {
    "pycharm": {
     "name": "#%%\n"
    }
   },
   "outputs": [],
   "source": [
    "import MyDataset\n",
    "#the rule of changing refer to MyDataset.py\n",
    "MyDataset.mnist_root = '/mnt/c/Code/DL23spring/data/' \n",
    "\n"
   ]
  },
  {
   "cell_type": "markdown",
   "id": "23267b23",
   "metadata": {
    "pycharm": {
     "name": "#%% md\n"
    }
   },
   "source": [
    "## Run the experiment mnist (you can also directly run 'python run.py' refer to README.md)"
   ]
  },
  {
   "cell_type": "code",
   "execution_count": 3,
   "id": "de8116f7",
   "metadata": {
    "pycharm": {
     "name": "#%%\n"
    }
   },
   "outputs": [
    {
     "name": "stdout",
     "output_type": "stream",
     "text": [
      "loading data..\n",
      "----------------------------------------------------------------\n",
      "        Layer (type)               Output Shape         Param #\n",
      "================================================================\n",
      "            Conv2d-1           [-1, 16, 28, 28]             160\n",
      "              ReLU-2           [-1, 16, 28, 28]               0\n",
      "            Conv2d-3           [-1, 16, 28, 28]           2,320\n",
      "       BatchNorm2d-4           [-1, 16, 28, 28]              32\n",
      "              ReLU-5           [-1, 16, 28, 28]               0\n",
      "         MaxPool2d-6           [-1, 16, 14, 14]               0\n",
      "            Conv2d-7           [-1, 32, 14, 14]          12,832\n",
      "       BatchNorm2d-8           [-1, 32, 14, 14]              64\n",
      "              ReLU-9           [-1, 32, 14, 14]               0\n",
      "        MaxPool2d-10             [-1, 32, 7, 7]               0\n",
      "          Flatten-11                 [-1, 1568]               0\n",
      "           Linear-12                   [-1, 10]          15,690\n",
      "================================================================\n",
      "Total params: 31,098\n",
      "Trainable params: 31,098\n",
      "Non-trainable params: 0\n",
      "----------------------------------------------------------------\n",
      "Input size (MB): 0.00\n",
      "Forward/backward pass size (MB): 0.67\n",
      "Params size (MB): 0.12\n",
      "Estimated Total Size (MB): 0.79\n",
      "----------------------------------------------------------------\n",
      "train dataset size: 48000, val dataset size: 12000\n",
      "start training..\n"
     ]
    },
    {
     "name": "stderr",
     "output_type": "stream",
     "text": [
      "Eval(train): 100%|████████████████████████| 94/94 [00:11<00:00,  8.30it/s, train_accuracy=0.098542, train_loss=2.307861]\n",
      "Eval(val): 100%|██████████████████████████████| 24/24 [00:03<00:00,  7.68it/s, val_accuracy=0.099250, val_loss=2.308230]\n",
      "Epoch 0: 100%|████████████████████████████| 94/94 [00:13<00:00,  7.22it/s, train_accuracy=0.911687, train_loss=0.339953]\n",
      "Eval(val): 100%|██████████████████████████████| 24/24 [00:03<00:00,  7.93it/s, val_accuracy=0.970250, val_loss=0.099226]\n",
      "Epoch 1: 100%|████████████████████████████| 94/94 [00:12<00:00,  7.29it/s, train_accuracy=0.980333, train_loss=0.072541]\n",
      "Eval(val): 100%|██████████████████████████████| 24/24 [00:02<00:00,  8.00it/s, val_accuracy=0.980500, val_loss=0.066158]\n",
      "Epoch 2: 100%|████████████████████████████| 94/94 [00:12<00:00,  7.33it/s, train_accuracy=0.985437, train_loss=0.051081]\n",
      "Eval(val): 100%|██████████████████████████████| 24/24 [00:02<00:00,  8.55it/s, val_accuracy=0.985333, val_loss=0.051705]\n",
      "Epoch 3: 100%|████████████████████████████| 94/94 [00:12<00:00,  7.50it/s, train_accuracy=0.987958, train_loss=0.040388]\n",
      "Eval(val): 100%|██████████████████████████████| 24/24 [00:02<00:00,  8.46it/s, val_accuracy=0.986000, val_loss=0.046255]\n",
      "Epoch 4: 100%|████████████████████████████| 94/94 [00:12<00:00,  7.31it/s, train_accuracy=0.990646, train_loss=0.032630]\n",
      "Eval(val): 100%|██████████████████████████████| 24/24 [00:02<00:00,  8.17it/s, val_accuracy=0.985333, val_loss=0.047065]\n",
      "Epoch 5: 100%|████████████████████████████| 94/94 [00:12<00:00,  7.36it/s, train_accuracy=0.991917, train_loss=0.027554]\n",
      "Eval(val): 100%|██████████████████████████████| 24/24 [00:02<00:00,  8.24it/s, val_accuracy=0.988083, val_loss=0.041030]\n",
      "Epoch 6: 100%|████████████████████████████| 94/94 [00:12<00:00,  7.36it/s, train_accuracy=0.993229, train_loss=0.023746]\n",
      "Eval(val): 100%|██████████████████████████████| 24/24 [00:02<00:00,  9.18it/s, val_accuracy=0.989833, val_loss=0.035284]\n",
      "Epoch 7: 100%|████████████████████████████| 94/94 [00:12<00:00,  7.54it/s, train_accuracy=0.994750, train_loss=0.019640]\n",
      "Eval(val): 100%|██████████████████████████████| 24/24 [00:02<00:00,  8.95it/s, val_accuracy=0.990250, val_loss=0.034353]\n",
      "Epoch 8: 100%|████████████████████████████| 94/94 [00:12<00:00,  7.28it/s, train_accuracy=0.995104, train_loss=0.016908]\n",
      "Eval(val): 100%|██████████████████████████████| 24/24 [00:02<00:00,  9.58it/s, val_accuracy=0.989333, val_loss=0.035709]\n",
      "Epoch 9: 100%|████████████████████████████| 94/94 [00:13<00:00,  7.15it/s, train_accuracy=0.996563, train_loss=0.013941]\n",
      "Eval(val): 100%|██████████████████████████████| 24/24 [00:03<00:00,  6.46it/s, val_accuracy=0.989167, val_loss=0.037272]\n",
      "Epoch 10: 100%|███████████████████████████| 94/94 [00:13<00:00,  7.22it/s, train_accuracy=0.996854, train_loss=0.012381]\n",
      "Eval(val): 100%|██████████████████████████████| 24/24 [00:03<00:00,  7.46it/s, val_accuracy=0.988250, val_loss=0.035040]\n",
      "Epoch 11: 100%|███████████████████████████| 94/94 [00:12<00:00,  7.31it/s, train_accuracy=0.997833, train_loss=0.010481]\n",
      "Eval(val): 100%|██████████████████████████████| 24/24 [00:02<00:00,  8.49it/s, val_accuracy=0.990750, val_loss=0.032666]\n",
      "Epoch 12: 100%|███████████████████████████| 94/94 [00:12<00:00,  7.59it/s, train_accuracy=0.997958, train_loss=0.009052]\n",
      "Eval(val): 100%|██████████████████████████████| 24/24 [00:02<00:00,  8.80it/s, val_accuracy=0.988667, val_loss=0.037903]\n",
      "Epoch 13: 100%|███████████████████████████| 94/94 [00:12<00:00,  7.45it/s, train_accuracy=0.998521, train_loss=0.007484]\n",
      "Eval(val): 100%|██████████████████████████████| 24/24 [00:02<00:00,  8.18it/s, val_accuracy=0.990000, val_loss=0.034360]\n",
      "Epoch 14: 100%|███████████████████████████| 94/94 [00:12<00:00,  7.34it/s, train_accuracy=0.999125, train_loss=0.006030]\n",
      "Eval(val): 100%|██████████████████████████████| 24/24 [00:03<00:00,  7.97it/s, val_accuracy=0.990667, val_loss=0.032153]\n",
      "Epoch 15: 100%|███████████████████████████| 94/94 [00:12<00:00,  7.37it/s, train_accuracy=0.999354, train_loss=0.005138]\n",
      "Eval(val): 100%|██████████████████████████████| 24/24 [00:03<00:00,  7.92it/s, val_accuracy=0.991417, val_loss=0.031433]\n",
      "Epoch 16: 100%|███████████████████████████| 94/94 [00:12<00:00,  7.28it/s, train_accuracy=0.999458, train_loss=0.004435]\n",
      "Eval(val): 100%|██████████████████████████████| 24/24 [00:02<00:00,  9.40it/s, val_accuracy=0.989750, val_loss=0.037173]\n",
      "Epoch 17: 100%|███████████████████████████| 94/94 [00:12<00:00,  7.28it/s, train_accuracy=0.999729, train_loss=0.003507]\n",
      "Eval(val): 100%|██████████████████████████████| 24/24 [00:03<00:00,  7.99it/s, val_accuracy=0.991333, val_loss=0.033135]\n",
      "Epoch 18: 100%|███████████████████████████| 94/94 [00:13<00:00,  7.20it/s, train_accuracy=0.999750, train_loss=0.003671]\n",
      "Eval(val): 100%|██████████████████████████████| 24/24 [00:02<00:00,  8.28it/s, val_accuracy=0.990917, val_loss=0.033105]\n",
      "Epoch 19: 100%|███████████████████████████| 94/94 [00:12<00:00,  7.24it/s, train_accuracy=0.999812, train_loss=0.002980]\n",
      "Eval(val): 100%|██████████████████████████████| 24/24 [00:02<00:00,  9.43it/s, val_accuracy=0.990083, val_loss=0.034382]\n"
     ]
    },
    {
     "name": "stdout",
     "output_type": "stream",
     "text": [
      "Finish Train\n"
     ]
    }
   ],
   "source": [
    "from run import call_mnist\n",
    "\n",
    "mode, path, cuda, lr, bs, es, early_stopping, early_dict = 'train', '/mnt/c/Code/DL23spring/model/MNIST/model.pth', True, 1e-3, 512, 20,True, None\n",
    "\n",
    "estimator = call_mnist(mode, path, device, lr, bs, es, early_stopping, early_dict)\n"
   ]
  },
  {
   "cell_type": "code",
   "execution_count": 4,
   "id": "7c13934c",
   "metadata": {
    "pycharm": {
     "name": "#%%\n"
    }
   },
   "outputs": [
    {
     "name": "stdout",
     "output_type": "stream",
     "text": [
      "loading data..\n",
      "----------------------------------------------------------------\n",
      "        Layer (type)               Output Shape         Param #\n",
      "================================================================\n",
      "            Conv2d-1           [-1, 16, 28, 28]             160\n",
      "              ReLU-2           [-1, 16, 28, 28]               0\n",
      "            Conv2d-3           [-1, 16, 28, 28]           2,320\n",
      "       BatchNorm2d-4           [-1, 16, 28, 28]              32\n",
      "              ReLU-5           [-1, 16, 28, 28]               0\n",
      "         MaxPool2d-6           [-1, 16, 14, 14]               0\n",
      "            Conv2d-7           [-1, 32, 14, 14]          12,832\n",
      "       BatchNorm2d-8           [-1, 32, 14, 14]              64\n",
      "              ReLU-9           [-1, 32, 14, 14]               0\n",
      "        MaxPool2d-10             [-1, 32, 7, 7]               0\n",
      "          Flatten-11                 [-1, 1568]               0\n",
      "           Linear-12                   [-1, 10]          15,690\n",
      "================================================================\n",
      "Total params: 31,098\n",
      "Trainable params: 31,098\n",
      "Non-trainable params: 0\n",
      "----------------------------------------------------------------\n",
      "Input size (MB): 0.00\n",
      "Forward/backward pass size (MB): 0.67\n",
      "Params size (MB): 0.12\n",
      "Estimated Total Size (MB): 0.79\n",
      "----------------------------------------------------------------\n",
      "test dataset size: 10000\n",
      "start testing..\n"
     ]
    },
    {
     "name": "stderr",
     "output_type": "stream",
     "text": [
      "Eval(test): 100%|███████████████████████████| 40/40 [00:02<00:00, 14.29it/s, test_accuracy=0.992500, test_loss=0.024834]\n"
     ]
    }
   ],
   "source": [
    "mode='test'\n",
    "estimator = call_mnist(mode, path, device)"
   ]
  },
  {
   "cell_type": "markdown",
   "id": "65e67bb0",
   "metadata": {
    "pycharm": {
     "name": "#%% md\n"
    }
   },
   "source": [
    "## Run the experiment kaggle"
   ]
  },
  {
   "cell_type": "code",
   "execution_count": null,
   "id": "a6833127",
   "metadata": {
    "pycharm": {
     "name": "#%%\n"
    }
   },
   "outputs": [],
   "source": [
    "from run import call_kaggle\n",
    "import run"
   ]
  },
  {
   "cell_type": "code",
   "execution_count": null,
   "id": "91196fd2",
   "metadata": {
    "pycharm": {
     "name": "#%%\n"
    }
   },
   "outputs": [],
   "source": [
    "run.kaggle_train_path = '/mnt/c/Code/DL23spring/data/KAGGLE/toy_train/'\n",
    "run.kaggle_test_path = '/mnt/c/Code/DL23spring/data/KAGGLE/toy_test/'"
   ]
  },
  {
   "cell_type": "code",
   "execution_count": 11,
   "id": "2a978788",
   "metadata": {
    "pycharm": {
     "name": "#%%\n"
    }
   },
   "outputs": [
    {
     "name": "stdout",
     "output_type": "stream",
     "text": [
      "loading data..\n",
      "----------------------------------------------------------------\n",
      "        Layer (type)               Output Shape         Param #\n",
      "================================================================\n",
      "            Conv2d-1         [-1, 64, 112, 112]           9,408\n",
      "       BatchNorm2d-2         [-1, 64, 112, 112]             128\n",
      "              ReLU-3         [-1, 64, 112, 112]               0\n",
      "         MaxPool2d-4           [-1, 64, 56, 56]               0\n",
      "            Conv2d-5           [-1, 64, 56, 56]          36,864\n",
      "       BatchNorm2d-6           [-1, 64, 56, 56]             128\n",
      "              ReLU-7           [-1, 64, 56, 56]               0\n",
      "            Conv2d-8           [-1, 64, 56, 56]          36,864\n",
      "       BatchNorm2d-9           [-1, 64, 56, 56]             128\n",
      "             ReLU-10           [-1, 64, 56, 56]               0\n",
      "       BasicBlock-11           [-1, 64, 56, 56]               0\n",
      "           Conv2d-12           [-1, 64, 56, 56]          36,864\n",
      "      BatchNorm2d-13           [-1, 64, 56, 56]             128\n",
      "             ReLU-14           [-1, 64, 56, 56]               0\n",
      "           Conv2d-15           [-1, 64, 56, 56]          36,864\n",
      "      BatchNorm2d-16           [-1, 64, 56, 56]             128\n",
      "             ReLU-17           [-1, 64, 56, 56]               0\n",
      "       BasicBlock-18           [-1, 64, 56, 56]               0\n",
      "           Conv2d-19          [-1, 128, 28, 28]          73,728\n",
      "      BatchNorm2d-20          [-1, 128, 28, 28]             256\n",
      "             ReLU-21          [-1, 128, 28, 28]               0\n",
      "           Conv2d-22          [-1, 128, 28, 28]         147,456\n",
      "      BatchNorm2d-23          [-1, 128, 28, 28]             256\n",
      "           Conv2d-24          [-1, 128, 28, 28]           8,192\n",
      "      BatchNorm2d-25          [-1, 128, 28, 28]             256\n",
      "             ReLU-26          [-1, 128, 28, 28]               0\n",
      "       BasicBlock-27          [-1, 128, 28, 28]               0\n",
      "           Conv2d-28          [-1, 128, 28, 28]         147,456\n",
      "      BatchNorm2d-29          [-1, 128, 28, 28]             256\n",
      "             ReLU-30          [-1, 128, 28, 28]               0\n",
      "           Conv2d-31          [-1, 128, 28, 28]         147,456\n",
      "      BatchNorm2d-32          [-1, 128, 28, 28]             256\n",
      "             ReLU-33          [-1, 128, 28, 28]               0\n",
      "       BasicBlock-34          [-1, 128, 28, 28]               0\n",
      "           Conv2d-35          [-1, 256, 14, 14]         294,912\n",
      "      BatchNorm2d-36          [-1, 256, 14, 14]             512\n",
      "             ReLU-37          [-1, 256, 14, 14]               0\n",
      "           Conv2d-38          [-1, 256, 14, 14]         589,824\n",
      "      BatchNorm2d-39          [-1, 256, 14, 14]             512\n",
      "           Conv2d-40          [-1, 256, 14, 14]          32,768\n",
      "      BatchNorm2d-41          [-1, 256, 14, 14]             512\n",
      "             ReLU-42          [-1, 256, 14, 14]               0\n",
      "       BasicBlock-43          [-1, 256, 14, 14]               0\n",
      "           Conv2d-44          [-1, 256, 14, 14]         589,824\n",
      "      BatchNorm2d-45          [-1, 256, 14, 14]             512\n",
      "             ReLU-46          [-1, 256, 14, 14]               0\n",
      "           Conv2d-47          [-1, 256, 14, 14]         589,824\n",
      "      BatchNorm2d-48          [-1, 256, 14, 14]             512\n",
      "             ReLU-49          [-1, 256, 14, 14]               0\n",
      "       BasicBlock-50          [-1, 256, 14, 14]               0\n",
      "           Conv2d-51            [-1, 512, 7, 7]       1,179,648\n",
      "      BatchNorm2d-52            [-1, 512, 7, 7]           1,024\n",
      "             ReLU-53            [-1, 512, 7, 7]               0\n",
      "           Conv2d-54            [-1, 512, 7, 7]       2,359,296\n",
      "      BatchNorm2d-55            [-1, 512, 7, 7]           1,024\n",
      "           Conv2d-56            [-1, 512, 7, 7]         131,072\n",
      "      BatchNorm2d-57            [-1, 512, 7, 7]           1,024\n",
      "             ReLU-58            [-1, 512, 7, 7]               0\n",
      "       BasicBlock-59            [-1, 512, 7, 7]               0\n",
      "           Conv2d-60            [-1, 512, 7, 7]       2,359,296\n",
      "      BatchNorm2d-61            [-1, 512, 7, 7]           1,024\n",
      "             ReLU-62            [-1, 512, 7, 7]               0\n",
      "           Conv2d-63            [-1, 512, 7, 7]       2,359,296\n",
      "      BatchNorm2d-64            [-1, 512, 7, 7]           1,024\n",
      "             ReLU-65            [-1, 512, 7, 7]               0\n",
      "       BasicBlock-66            [-1, 512, 7, 7]               0\n",
      "AdaptiveAvgPool2d-67            [-1, 512, 1, 1]               0\n",
      "           Linear-68                    [-1, 2]           1,026\n",
      "================================================================\n",
      "Total params: 11,177,538\n",
      "Trainable params: 11,177,538\n",
      "Non-trainable params: 0\n",
      "----------------------------------------------------------------\n",
      "Input size (MB): 0.57\n",
      "Forward/backward pass size (MB): 62.79\n",
      "Params size (MB): 42.64\n",
      "Estimated Total Size (MB): 106.00\n",
      "----------------------------------------------------------------\n",
      "train dataset size: 4000, val dataset size: 1000\n",
      "start training..\n"
     ]
    },
    {
     "name": "stderr",
     "output_type": "stream",
     "text": [
      "Eval(train): 100%|█████████████████████████████| 63/63 [00:31<00:00,  1.97it/s, train_acc=0.638500, train_loss=0.644289]\n",
      "Eval(val): 100%|███████████████████████████████████| 16/16 [00:07<00:00,  2.00it/s, val_acc=0.617000, val_loss=0.657261]\n",
      "Epoch 0: 100%|█████████████████████████████████| 63/63 [00:34<00:00,  1.82it/s, train_acc=0.944000, train_loss=0.151735]\n",
      "Eval(val): 100%|███████████████████████████████████| 16/16 [00:09<00:00,  1.69it/s, val_acc=0.956000, val_loss=0.110684]\n",
      "Epoch 1: 100%|█████████████████████████████████| 63/63 [00:39<00:00,  1.61it/s, train_acc=0.977500, train_loss=0.059667]\n",
      "Eval(val): 100%|███████████████████████████████████| 16/16 [00:08<00:00,  1.93it/s, val_acc=0.964000, val_loss=0.098537]\n",
      "Epoch 2: 100%|█████████████████████████████████| 63/63 [00:38<00:00,  1.65it/s, train_acc=0.990250, train_loss=0.028354]\n",
      "Eval(val): 100%|███████████████████████████████████| 16/16 [00:08<00:00,  1.82it/s, val_acc=0.970000, val_loss=0.067084]\n",
      "Epoch 3: 100%|█████████████████████████████████| 63/63 [00:39<00:00,  1.60it/s, train_acc=0.994250, train_loss=0.019411]\n",
      "Eval(val): 100%|███████████████████████████████████| 16/16 [00:08<00:00,  1.83it/s, val_acc=0.944000, val_loss=0.169042]\n",
      "Epoch 4: 100%|█████████████████████████████████| 63/63 [00:40<00:00,  1.54it/s, train_acc=0.985250, train_loss=0.035605]\n",
      "Eval(val): 100%|███████████████████████████████████| 16/16 [00:08<00:00,  1.83it/s, val_acc=0.960000, val_loss=0.100085]\n",
      "Epoch 5: 100%|█████████████████████████████████| 63/63 [00:40<00:00,  1.57it/s, train_acc=0.991000, train_loss=0.027772]\n",
      "Eval(val): 100%|███████████████████████████████████| 16/16 [00:08<00:00,  1.84it/s, val_acc=0.965000, val_loss=0.111823]\n",
      "Epoch 6: 100%|█████████████████████████████████| 63/63 [00:39<00:00,  1.59it/s, train_acc=0.995250, train_loss=0.014194]\n",
      "Eval(val): 100%|███████████████████████████████████| 16/16 [00:09<00:00,  1.73it/s, val_acc=0.952000, val_loss=0.169221]\n",
      "Epoch 7: 100%|█████████████████████████████████| 63/63 [00:40<00:00,  1.55it/s, train_acc=0.994250, train_loss=0.016750]\n",
      "Eval(val): 100%|███████████████████████████████████| 16/16 [00:08<00:00,  1.80it/s, val_acc=0.964000, val_loss=0.122222]\n",
      "Epoch 8: 100%|█████████████████████████████████| 63/63 [00:39<00:00,  1.61it/s, train_acc=0.990000, train_loss=0.028486]\n",
      "Eval(val): 100%|███████████████████████████████████| 16/16 [00:08<00:00,  1.79it/s, val_acc=0.925000, val_loss=0.220604]\n"
     ]
    },
    {
     "name": "stdout",
     "output_type": "stream",
     "text": [
      "Finish Train\n"
     ]
    },
    {
     "data": {
      "text/plain": [
       "<MyEstimator.Estimator at 0x7f9004f95be0>"
      ]
     },
     "execution_count": 11,
     "metadata": {},
     "output_type": "execute_result"
    }
   ],
   "source": [
    "mode, path,  lr, bs, es, early_stopping, early_dict = 'train', '/mnt/c/Code/DL23spring/model/KAGGLE/model_resnet18.pth', 5e-4, 64, 20,True, None\n",
    "net = 'resnet18'\n",
    "\n",
    "call_kaggle(mode, path=path, device, lr=lr, bs=bs, es=es, early_stopping=early_stopping, early_dict=early_dict, tr=0.8, arch=net)"
   ]
  },
  {
   "cell_type": "code",
   "execution_count": 23,
   "id": "87ccb5f3",
   "metadata": {
    "pycharm": {
     "name": "#%%\n"
    },
    "scrolled": true
   },
   "outputs": [
    {
     "name": "stderr",
     "output_type": "stream",
     "text": [
      "/home/witiy/miniconda3/envs/sc_env/lib/python3.7/site-packages/torchvision/models/_utils.py:209: UserWarning: The parameter 'pretrained' is deprecated since 0.13 and will be removed in 0.15, please use 'weights' instead.\n",
      "  f\"The parameter '{pretrained_param}' is deprecated since 0.13 and will be removed in 0.15, \"\n",
      "/home/witiy/miniconda3/envs/sc_env/lib/python3.7/site-packages/torchvision/models/_utils.py:223: UserWarning: Arguments other than a weight enum or `None` for 'weights' are deprecated since 0.13 and will be removed in 0.15. The current behavior is equivalent to passing `weights=ResNet18_Weights.IMAGENET1K_V1`. You can also use `weights=ResNet18_Weights.DEFAULT` to get the most up-to-date weights.\n",
      "  warnings.warn(msg)\n"
     ]
    },
    {
     "name": "stdout",
     "output_type": "stream",
     "text": [
      "loading data..\n",
      "----------------------------------------------------------------\n",
      "        Layer (type)               Output Shape         Param #\n",
      "================================================================\n",
      "            Conv2d-1         [-1, 64, 112, 112]           9,408\n",
      "       BatchNorm2d-2         [-1, 64, 112, 112]             128\n",
      "              ReLU-3         [-1, 64, 112, 112]               0\n",
      "         MaxPool2d-4           [-1, 64, 56, 56]               0\n",
      "            Conv2d-5           [-1, 64, 56, 56]          36,864\n",
      "       BatchNorm2d-6           [-1, 64, 56, 56]             128\n",
      "              ReLU-7           [-1, 64, 56, 56]               0\n",
      "            Conv2d-8           [-1, 64, 56, 56]          36,864\n",
      "       BatchNorm2d-9           [-1, 64, 56, 56]             128\n",
      "             ReLU-10           [-1, 64, 56, 56]               0\n",
      "       BasicBlock-11           [-1, 64, 56, 56]               0\n",
      "           Conv2d-12           [-1, 64, 56, 56]          36,864\n",
      "      BatchNorm2d-13           [-1, 64, 56, 56]             128\n",
      "             ReLU-14           [-1, 64, 56, 56]               0\n",
      "           Conv2d-15           [-1, 64, 56, 56]          36,864\n",
      "      BatchNorm2d-16           [-1, 64, 56, 56]             128\n",
      "             ReLU-17           [-1, 64, 56, 56]               0\n",
      "       BasicBlock-18           [-1, 64, 56, 56]               0\n",
      "           Conv2d-19          [-1, 128, 28, 28]          73,728\n",
      "      BatchNorm2d-20          [-1, 128, 28, 28]             256\n",
      "             ReLU-21          [-1, 128, 28, 28]               0\n",
      "           Conv2d-22          [-1, 128, 28, 28]         147,456\n",
      "      BatchNorm2d-23          [-1, 128, 28, 28]             256\n",
      "           Conv2d-24          [-1, 128, 28, 28]           8,192\n",
      "      BatchNorm2d-25          [-1, 128, 28, 28]             256\n",
      "             ReLU-26          [-1, 128, 28, 28]               0\n",
      "       BasicBlock-27          [-1, 128, 28, 28]               0\n",
      "           Conv2d-28          [-1, 128, 28, 28]         147,456\n",
      "      BatchNorm2d-29          [-1, 128, 28, 28]             256\n",
      "             ReLU-30          [-1, 128, 28, 28]               0\n",
      "           Conv2d-31          [-1, 128, 28, 28]         147,456\n",
      "      BatchNorm2d-32          [-1, 128, 28, 28]             256\n",
      "             ReLU-33          [-1, 128, 28, 28]               0\n",
      "       BasicBlock-34          [-1, 128, 28, 28]               0\n",
      "           Conv2d-35          [-1, 256, 14, 14]         294,912\n",
      "      BatchNorm2d-36          [-1, 256, 14, 14]             512\n",
      "             ReLU-37          [-1, 256, 14, 14]               0\n",
      "           Conv2d-38          [-1, 256, 14, 14]         589,824\n",
      "      BatchNorm2d-39          [-1, 256, 14, 14]             512\n",
      "           Conv2d-40          [-1, 256, 14, 14]          32,768\n",
      "      BatchNorm2d-41          [-1, 256, 14, 14]             512\n",
      "             ReLU-42          [-1, 256, 14, 14]               0\n",
      "       BasicBlock-43          [-1, 256, 14, 14]               0\n",
      "           Conv2d-44          [-1, 256, 14, 14]         589,824\n",
      "      BatchNorm2d-45          [-1, 256, 14, 14]             512\n",
      "             ReLU-46          [-1, 256, 14, 14]               0\n",
      "           Conv2d-47          [-1, 256, 14, 14]         589,824\n",
      "      BatchNorm2d-48          [-1, 256, 14, 14]             512\n",
      "             ReLU-49          [-1, 256, 14, 14]               0\n",
      "       BasicBlock-50          [-1, 256, 14, 14]               0\n",
      "           Conv2d-51            [-1, 512, 7, 7]       1,179,648\n",
      "      BatchNorm2d-52            [-1, 512, 7, 7]           1,024\n",
      "             ReLU-53            [-1, 512, 7, 7]               0\n",
      "           Conv2d-54            [-1, 512, 7, 7]       2,359,296\n",
      "      BatchNorm2d-55            [-1, 512, 7, 7]           1,024\n",
      "           Conv2d-56            [-1, 512, 7, 7]         131,072\n",
      "      BatchNorm2d-57            [-1, 512, 7, 7]           1,024\n",
      "             ReLU-58            [-1, 512, 7, 7]               0\n",
      "       BasicBlock-59            [-1, 512, 7, 7]               0\n",
      "           Conv2d-60            [-1, 512, 7, 7]       2,359,296\n",
      "      BatchNorm2d-61            [-1, 512, 7, 7]           1,024\n",
      "             ReLU-62            [-1, 512, 7, 7]               0\n",
      "           Conv2d-63            [-1, 512, 7, 7]       2,359,296\n",
      "      BatchNorm2d-64            [-1, 512, 7, 7]           1,024\n",
      "             ReLU-65            [-1, 512, 7, 7]               0\n",
      "       BasicBlock-66            [-1, 512, 7, 7]               0\n",
      "AdaptiveAvgPool2d-67            [-1, 512, 1, 1]               0\n",
      "           Linear-68                    [-1, 2]           1,026\n",
      "================================================================\n",
      "Total params: 11,177,538\n",
      "Trainable params: 11,177,538\n",
      "Non-trainable params: 0\n",
      "----------------------------------------------------------------\n",
      "Input size (MB): 0.57\n",
      "Forward/backward pass size (MB): 62.79\n",
      "Params size (MB): 42.64\n",
      "Estimated Total Size (MB): 106.00\n",
      "----------------------------------------------------------------\n",
      "test dataset size: 1000\n",
      "start testing..\n"
     ]
    },
    {
     "name": "stderr",
     "output_type": "stream",
     "text": [
      "Eval(test): 100%|██████████████████████████████████| 8/8 [00:07<00:00,  1.06it/s, test_acc=0.936000, test_loss=0.236911]\n"
     ]
    },
    {
     "data": {
      "text/plain": [
       "<MyEstimator.Estimator at 0x7f8fc0202d30>"
      ]
     },
     "execution_count": 23,
     "metadata": {},
     "output_type": "execute_result"
    }
   ],
   "source": [
    "mode='test'\n",
    "call_kaggle(mode, path, cuda, arch='resnet18')"
   ]
  },
  {
   "cell_type": "markdown",
   "id": "5fb0f4b1",
   "metadata": {},
   "source": [
    "## Run the experiment tang(自动写诗)"
   ]
  },
  {
   "cell_type": "code",
   "execution_count": 7,
   "id": "53e897e0",
   "metadata": {},
   "outputs": [
    {
     "name": "stdout",
     "output_type": "stream",
     "text": [
      "loading data..\n",
      "The model has 43,980,133 trainable parameters.\n",
      "train dataset size: 6526, val dataset size: 58734\n",
      "start training..\n"
     ]
    },
    {
     "name": "stderr",
     "output_type": "stream",
     "text": [
      "Eval(train): 100%|██████████████████████| 204/204 [00:06<00:00, 30.74it/s, train_accuracy=0.000016, train_loss=9.024936]\n",
      "Eval(val): 100%|██████████████████████████| 1836/1836 [01:46<00:00, 17.25it/s, val_accuracy=0.000017, val_loss=9.024935]\n",
      "Epoch 0: 100%|██████████████████████████| 204/204 [01:26<00:00,  2.35it/s, train_accuracy=0.149485, train_loss=6.398026]\n",
      "Eval(val): 100%|██████████████████████████| 1836/1836 [03:36<00:00,  8.50it/s, val_accuracy=0.177274, val_loss=6.036517]"
     ]
    },
    {
     "name": "stdout",
     "output_type": "stream",
     "text": [
      "Finish Train\n"
     ]
    },
    {
     "name": "stderr",
     "output_type": "stream",
     "text": [
      "\n",
      "GAN Training Phase Epoch 1: 100%|█| 204/204 [01:45<00:00,  1.93it/s, Generator_loss=0.500084, Discriminator_loss=0.04628\n"
     ]
    }
   ],
   "source": [
    "from run import call_tang\n",
    "\n",
    "MyDataset.tang_train_path = '/mnt/c/Code/DL23spring/data/TANG/tang.npz' \n",
    "mode, path, lr, bs, early_stopping, early_dict = 'train', '/mnt/c/Code/DL23spring/model/TANG/tmp_model.pth', 1e-3, 32, False, None\n",
    "\n",
    "note = 'gan' #结束训练后，使用gan损失加强生成的文本质量\n",
    "\n",
    "tr = 0.1 #训练样本的比率，为了演示，这里设置为0.1\n",
    "\n",
    "es=1# epoch数，同样，为了演示，设置为1\n",
    "estimator = call_tang(mode, path, device, lr, bs, es, early_stopping, early_dict, tr, note)\n"
   ]
  },
  {
   "cell_type": "code",
   "execution_count": 9,
   "id": "1fc6c768",
   "metadata": {},
   "outputs": [
    {
     "name": "stdout",
     "output_type": "stream",
     "text": [
      "loading data..\n",
      "The model has 43,980,133 trainable parameters.\n",
      "start generating with ##床前明月光，##..\n",
      "床前明月光，枕上起残妆。无语不成思，梦魂何处期？。\n"
     ]
    },
    {
     "data": {
      "text/plain": [
       "<LangEstimator.tangEstimator at 0x7f527a640588>"
      ]
     },
     "execution_count": 9,
     "metadata": {},
     "output_type": "execute_result"
    }
   ],
   "source": [
    "mode = 'gen'\n",
    "begin = '床前明月光，'\n",
    "#调用训练好的模型\n",
    "\n",
    "call_tang(mode, '../model/TANG/model.pth', device, begin=begin)\n"
   ]
  }
 ],
 "metadata": {
  "kernelspec": {
   "display_name": "Python 3 (ipykernel)",
   "language": "python",
   "name": "python3"
  },
  "language_info": {
   "codemirror_mode": {
    "name": "ipython",
    "version": 3
   },
   "file_extension": ".py",
   "mimetype": "text/x-python",
   "name": "python",
   "nbconvert_exporter": "python",
   "pygments_lexer": "ipython3",
   "version": "3.7.0"
  }
 },
 "nbformat": 4,
 "nbformat_minor": 5
}
