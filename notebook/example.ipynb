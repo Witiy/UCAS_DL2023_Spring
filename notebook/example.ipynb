{
 "cells": [
  {
   "cell_type": "code",
   "execution_count": 1,
   "id": "28adcccd",
   "metadata": {
    "pycharm": {
     "name": "#%%\n"
    }
   },
   "outputs": [],
   "source": [
    "%matplotlib inline"
   ]
  },
  {
   "cell_type": "code",
   "execution_count": 2,
   "id": "706f7d15",
   "metadata": {
    "pycharm": {
     "name": "#%%\n"
    }
   },
   "outputs": [],
   "source": [
    "import sys\n",
    "import os\n",
    "PROJ_DIR = '/mnt/c/Code/DL23spring/'\n",
    "sys.path.append(PROJ_DIR)"
   ]
  },
  {
   "cell_type": "markdown",
   "id": "8fdbb840",
   "metadata": {
    "pycharm": {
     "name": "#%% md\n"
    }
   },
   "source": [
    "## Change the dataset path into your own path"
   ]
  },
  {
   "cell_type": "code",
   "execution_count": 3,
   "id": "079802cd",
   "metadata": {
    "pycharm": {
     "name": "#%%\n"
    }
   },
   "outputs": [],
   "source": [
    "import MyDataset\n",
    "#the rule of changing refer to MyDataset.py\n",
    "MyDataset.mnist_root = '/mnt/c/Code/DL23spring/data/' "
   ]
  },
  {
   "cell_type": "markdown",
   "id": "23267b23",
   "metadata": {
    "pycharm": {
     "name": "#%% md\n"
    }
   },
   "source": [
    "## Run the experiment mnist (you can also directly run 'python run.py' refer to README.md)"
   ]
  },
  {
   "cell_type": "code",
   "execution_count": 5,
   "id": "de8116f7",
   "metadata": {
    "pycharm": {
     "name": "#%%\n"
    }
   },
   "outputs": [
    {
     "name": "stdout",
     "output_type": "stream",
     "text": [
      "loading data..\n",
      "----------------------------------------------------------------\n",
      "        Layer (type)               Output Shape         Param #\n",
      "================================================================\n",
      "            Conv2d-1           [-1, 16, 28, 28]             160\n",
      "              ReLU-2           [-1, 16, 28, 28]               0\n",
      "            Conv2d-3           [-1, 16, 28, 28]           2,320\n",
      "       BatchNorm2d-4           [-1, 16, 28, 28]              32\n",
      "              ReLU-5           [-1, 16, 28, 28]               0\n",
      "         MaxPool2d-6           [-1, 16, 14, 14]               0\n",
      "            Conv2d-7           [-1, 32, 14, 14]          12,832\n",
      "       BatchNorm2d-8           [-1, 32, 14, 14]              64\n",
      "              ReLU-9           [-1, 32, 14, 14]               0\n",
      "        MaxPool2d-10             [-1, 32, 7, 7]               0\n",
      "          Flatten-11                 [-1, 1568]               0\n",
      "           Linear-12                   [-1, 10]          15,690\n",
      "================================================================\n",
      "Total params: 31,098\n",
      "Trainable params: 31,098\n",
      "Non-trainable params: 0\n",
      "----------------------------------------------------------------\n",
      "Input size (MB): 0.00\n",
      "Forward/backward pass size (MB): 0.67\n",
      "Params size (MB): 0.12\n",
      "Estimated Total Size (MB): 0.79\n",
      "----------------------------------------------------------------\n",
      "<torch.utils.data.dataloader.DataLoader object at 0x7f9020328f28> <torch.utils.data.dataloader.DataLoader object at 0x7f90200a0048>\n",
      "train dataset size: 48000, val dataset size: 12000\n",
      "start training..\n"
     ]
    },
    {
     "name": "stderr",
     "output_type": "stream",
     "text": [
      "Eval(train): 100%|█████████████████████████████| 94/94 [00:10<00:00,  8.58it/s, train_acc=0.135750, train_loss=2.306513]\n",
      "Eval(val): 100%|███████████████████████████████████| 24/24 [00:02<00:00,  8.86it/s, val_acc=0.130833, val_loss=2.306720]\n",
      "Epoch 0: 100%|█████████████████████████████████| 94/94 [00:10<00:00,  9.16it/s, train_acc=0.904854, train_loss=0.353095]\n",
      "Eval(val): 100%|███████████████████████████████████| 24/24 [00:02<00:00, 10.33it/s, val_acc=0.971833, val_loss=0.099838]\n",
      "Epoch 1: 100%|█████████████████████████████████| 94/94 [00:10<00:00,  9.00it/s, train_acc=0.978833, train_loss=0.076166]\n",
      "Eval(val): 100%|███████████████████████████████████| 24/24 [00:02<00:00, 11.26it/s, val_acc=0.978250, val_loss=0.069514]\n",
      "Epoch 2: 100%|█████████████████████████████████| 94/94 [00:10<00:00,  8.57it/s, train_acc=0.984875, train_loss=0.053547]\n",
      "Eval(val): 100%|███████████████████████████████████| 24/24 [00:02<00:00, 10.26it/s, val_acc=0.984417, val_loss=0.052602]\n",
      "Epoch 3: 100%|█████████████████████████████████| 94/94 [00:10<00:00,  9.08it/s, train_acc=0.987500, train_loss=0.042253]\n",
      "Eval(val): 100%|███████████████████████████████████| 24/24 [00:02<00:00, 11.85it/s, val_acc=0.983500, val_loss=0.050612]\n",
      "Epoch 4: 100%|█████████████████████████████████| 94/94 [00:10<00:00,  9.12it/s, train_acc=0.989229, train_loss=0.035894]\n",
      "Eval(val): 100%|███████████████████████████████████| 24/24 [00:02<00:00, 11.29it/s, val_acc=0.981250, val_loss=0.059592]\n",
      "Epoch 5: 100%|█████████████████████████████████| 94/94 [00:10<00:00,  9.03it/s, train_acc=0.991708, train_loss=0.028945]\n",
      "Eval(val): 100%|███████████████████████████████████| 24/24 [00:02<00:00, 11.35it/s, val_acc=0.987250, val_loss=0.046779]\n",
      "Epoch 6: 100%|█████████████████████████████████| 94/94 [00:10<00:00,  8.66it/s, train_acc=0.992729, train_loss=0.024885]\n",
      "Eval(val): 100%|███████████████████████████████████| 24/24 [00:02<00:00, 11.84it/s, val_acc=0.987250, val_loss=0.041075]\n",
      "Epoch 7: 100%|█████████████████████████████████| 94/94 [00:10<00:00,  8.92it/s, train_acc=0.994229, train_loss=0.020655]\n",
      "Eval(val): 100%|███████████████████████████████████| 24/24 [00:02<00:00, 11.66it/s, val_acc=0.988333, val_loss=0.039232]\n",
      "Epoch 8: 100%|█████████████████████████████████| 94/94 [00:10<00:00,  9.39it/s, train_acc=0.995083, train_loss=0.018771]\n",
      "Eval(val): 100%|███████████████████████████████████| 24/24 [00:02<00:00, 10.56it/s, val_acc=0.990500, val_loss=0.033167]\n",
      "Epoch 9: 100%|█████████████████████████████████| 94/94 [00:10<00:00,  9.21it/s, train_acc=0.995792, train_loss=0.015858]\n",
      "Eval(val): 100%|███████████████████████████████████| 24/24 [00:02<00:00, 11.67it/s, val_acc=0.988500, val_loss=0.037255]\n",
      "Epoch 10: 100%|████████████████████████████████| 94/94 [00:10<00:00,  9.01it/s, train_acc=0.996354, train_loss=0.014689]\n",
      "Eval(val): 100%|███████████████████████████████████| 24/24 [00:02<00:00,  9.77it/s, val_acc=0.989500, val_loss=0.036044]\n",
      "Epoch 11: 100%|████████████████████████████████| 94/94 [00:10<00:00,  8.96it/s, train_acc=0.996750, train_loss=0.011856]\n",
      "Eval(val): 100%|███████████████████████████████████| 24/24 [00:02<00:00, 10.34it/s, val_acc=0.990333, val_loss=0.034109]\n",
      "Epoch 12: 100%|████████████████████████████████| 94/94 [00:09<00:00,  9.49it/s, train_acc=0.997625, train_loss=0.010219]\n",
      "Eval(val): 100%|███████████████████████████████████| 24/24 [00:02<00:00, 10.57it/s, val_acc=0.989500, val_loss=0.037029]\n",
      "Epoch 13: 100%|████████████████████████████████| 94/94 [00:10<00:00,  8.63it/s, train_acc=0.998271, train_loss=0.008662]\n",
      "Eval(val): 100%|███████████████████████████████████| 24/24 [00:02<00:00,  9.61it/s, val_acc=0.990333, val_loss=0.032403]\n",
      "Epoch 14: 100%|████████████████████████████████| 94/94 [00:10<00:00,  8.71it/s, train_acc=0.998917, train_loss=0.006466]\n",
      "Eval(val): 100%|███████████████████████████████████| 24/24 [00:02<00:00,  8.97it/s, val_acc=0.991000, val_loss=0.033060]\n",
      "Epoch 15: 100%|████████████████████████████████| 94/94 [00:10<00:00,  8.87it/s, train_acc=0.999021, train_loss=0.006487]\n",
      "Eval(val): 100%|███████████████████████████████████| 24/24 [00:01<00:00, 12.30it/s, val_acc=0.991333, val_loss=0.032730]\n",
      "Epoch 16: 100%|████████████████████████████████| 94/94 [00:10<00:00,  9.26it/s, train_acc=0.999229, train_loss=0.005118]\n",
      "Eval(val): 100%|███████████████████████████████████| 24/24 [00:02<00:00, 10.85it/s, val_acc=0.990917, val_loss=0.034996]\n",
      "Epoch 17: 100%|████████████████████████████████| 94/94 [00:10<00:00,  9.11it/s, train_acc=0.999563, train_loss=0.004104]\n",
      "Eval(val): 100%|███████████████████████████████████| 24/24 [00:02<00:00, 10.72it/s, val_acc=0.987083, val_loss=0.044421]\n",
      "Epoch 18: 100%|████████████████████████████████| 94/94 [00:10<00:00,  9.33it/s, train_acc=0.999521, train_loss=0.003882]\n",
      "Eval(val): 100%|███████████████████████████████████| 24/24 [00:02<00:00, 10.61it/s, val_acc=0.990417, val_loss=0.035586]\n",
      "Epoch 19: 100%|████████████████████████████████| 94/94 [00:10<00:00,  9.34it/s, train_acc=0.999667, train_loss=0.003467]\n",
      "Eval(val): 100%|███████████████████████████████████| 24/24 [00:02<00:00, 10.79it/s, val_acc=0.991583, val_loss=0.033638]\n"
     ]
    },
    {
     "name": "stdout",
     "output_type": "stream",
     "text": [
      "Finish Train\n"
     ]
    }
   ],
   "source": [
    "from run import call_mnist\n",
    "\n",
    "mode, path, cuda, lr, bs, es, early_stopping, early_dict = 'train', '/mnt/c/Code/DL23spring/model/MNIST/model.pth', True, 1e-3, 512, 20,True, None\n",
    "estimator = call_mnist(mode, path, cuda, lr, bs, es, early_stopping, early_dict)\n"
   ]
  },
  {
   "cell_type": "code",
   "execution_count": 6,
   "id": "7c13934c",
   "metadata": {
    "pycharm": {
     "name": "#%%\n"
    }
   },
   "outputs": [
    {
     "name": "stdout",
     "output_type": "stream",
     "text": [
      "loading data..\n",
      "----------------------------------------------------------------\n",
      "        Layer (type)               Output Shape         Param #\n",
      "================================================================\n",
      "            Conv2d-1           [-1, 16, 28, 28]             160\n",
      "              ReLU-2           [-1, 16, 28, 28]               0\n",
      "            Conv2d-3           [-1, 16, 28, 28]           2,320\n",
      "       BatchNorm2d-4           [-1, 16, 28, 28]              32\n",
      "              ReLU-5           [-1, 16, 28, 28]               0\n",
      "         MaxPool2d-6           [-1, 16, 14, 14]               0\n",
      "            Conv2d-7           [-1, 32, 14, 14]          12,832\n",
      "       BatchNorm2d-8           [-1, 32, 14, 14]              64\n",
      "              ReLU-9           [-1, 32, 14, 14]               0\n",
      "        MaxPool2d-10             [-1, 32, 7, 7]               0\n",
      "          Flatten-11                 [-1, 1568]               0\n",
      "           Linear-12                   [-1, 10]          15,690\n",
      "================================================================\n",
      "Total params: 31,098\n",
      "Trainable params: 31,098\n",
      "Non-trainable params: 0\n",
      "----------------------------------------------------------------\n",
      "Input size (MB): 0.00\n",
      "Forward/backward pass size (MB): 0.67\n",
      "Params size (MB): 0.12\n",
      "Estimated Total Size (MB): 0.79\n",
      "----------------------------------------------------------------\n",
      "test dataset size: 10000\n",
      "start testing..\n"
     ]
    },
    {
     "name": "stderr",
     "output_type": "stream",
     "text": [
      "Eval(test): 100%|████████████████████████████████| 40/40 [00:02<00:00, 15.17it/s, test_acc=0.991400, test_loss=0.027698]\n"
     ]
    }
   ],
   "source": [
    "mode='test'\n",
    "estimator = call_mnist(mode, path, cuda)"
   ]
  },
  {
   "cell_type": "markdown",
   "id": "65e67bb0",
   "metadata": {},
   "source": [
    "## Run the experiment kaggle"
   ]
  },
  {
   "cell_type": "code",
   "execution_count": null,
   "outputs": [],
   "source": [
    "from run import call_kaggle\n",
    "import run"
   ],
   "metadata": {
    "collapsed": false,
    "pycharm": {
     "name": "#%%\n"
    }
   }
  },
  {
   "cell_type": "code",
   "execution_count": null,
   "outputs": [],
   "source": [
    "run.kaggle_train_path = '/mnt/c/Code/DL23spring/data/KAGGLE/toy_train/'\n",
    "run.kaggle_test_path = '/mnt/c/Code/DL23spring/data/KAGGLE/toy_test/'"
   ],
   "metadata": {
    "collapsed": false,
    "pycharm": {
     "name": "#%%\n"
    }
   }
  },
  {
   "cell_type": "code",
   "execution_count": null,
   "outputs": [],
   "source": [
    "mode, path, cuda, lr, bs, es, early_stopping, early_dict = 'train', '/mnt/c/Code/DL23spring/model/KAGGLE/model_resnet18.pth', True, 5e-4, 64, 20,True, None\n",
    "net = 'resnet18'\n",
    "\n",
    "call_kaggle(mode, path=path, cuda=cuda, lr=lr, bs=bs, es=es, early_stopping=early_stopping, early_dict=early_dict, tr=0.8, arch=net)"
   ],
   "metadata": {
    "collapsed": false,
    "pycharm": {
     "name": "#%%\n"
    }
   }
  },
  {
   "cell_type": "code",
   "execution_count": null,
   "outputs": [],
   "source": [
    "mode='test'\n",
    "call_kaggle(mode, path, cuda, arch='resnet18')"
   ],
   "metadata": {
    "collapsed": false,
    "pycharm": {
     "name": "#%%\n"
    }
   }
  }
 ],
 "metadata": {
  "kernelspec": {
   "display_name": "Python 3 (ipykernel)",
   "language": "python",
   "name": "python3"
  },
  "language_info": {
   "codemirror_mode": {
    "name": "ipython",
    "version": 3
   },
   "file_extension": ".py",
   "mimetype": "text/x-python",
   "name": "python",
   "nbconvert_exporter": "python",
   "pygments_lexer": "ipython3",
   "version": "3.7.0"
  }
 },
 "nbformat": 4,
 "nbformat_minor": 5
}