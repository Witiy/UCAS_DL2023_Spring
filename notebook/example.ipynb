{
 "cells": [
  {
   "cell_type": "code",
   "execution_count": 1,
   "id": "28adcccd",
   "metadata": {
    "pycharm": {
     "name": "#%%\n"
    }
   },
   "outputs": [],
   "source": [
    "%matplotlib inline"
   ]
  },
  {
   "cell_type": "code",
   "execution_count": 2,
   "id": "706f7d15",
   "metadata": {
    "pycharm": {
     "name": "#%%\n"
    }
   },
   "outputs": [],
   "source": [
    "import sys\n",
    "import os\n",
    "PROJ_DIR = '/mnt/c/Code/DL23spring/'\n",
    "sys.path.append(PROJ_DIR)"
   ]
  },
  {
   "cell_type": "markdown",
   "id": "8fdbb840",
   "metadata": {},
   "source": [
    "## Change the dataset path into your own path"
   ]
  },
  {
   "cell_type": "code",
   "execution_count": 3,
   "id": "079802cd",
   "metadata": {},
   "outputs": [],
   "source": [
    "import MyDataset\n",
    "#the rule of changing refer to MyDataset.py\n",
    "MyDataset.mnist_root = '/mnt/c/Code/DL23spring/data/' "
   ]
  },
  {
   "cell_type": "markdown",
   "id": "418e902d",
   "metadata": {},
   "source": [
    "## Run the experiment mnist (you can also directly run 'python run.py' refer to README.md)"
   ]
  },
  {
   "cell_type": "code",
   "execution_count": 4,
   "id": "f9cb5519",
   "metadata": {
    "pycharm": {
     "name": "#%%\n"
    }
   },
   "outputs": [
    {
     "name": "stdout",
     "output_type": "stream",
     "text": [
      "loading data..\n",
      "----------------------------------------------------------------\n",
      "        Layer (type)               Output Shape         Param #\n",
      "================================================================\n",
      "            Conv2d-1           [-1, 16, 28, 28]             160\n",
      "              ReLU-2           [-1, 16, 28, 28]               0\n",
      "            Conv2d-3           [-1, 16, 28, 28]           2,320\n",
      "       BatchNorm2d-4           [-1, 16, 28, 28]              32\n",
      "              ReLU-5           [-1, 16, 28, 28]               0\n",
      "         MaxPool2d-6           [-1, 16, 14, 14]               0\n",
      "            Conv2d-7           [-1, 32, 14, 14]          12,832\n",
      "       BatchNorm2d-8           [-1, 32, 14, 14]              64\n",
      "              ReLU-9           [-1, 32, 14, 14]               0\n",
      "        MaxPool2d-10             [-1, 32, 7, 7]               0\n",
      "          Flatten-11                 [-1, 1568]               0\n",
      "           Linear-12                   [-1, 10]          15,690\n",
      "================================================================\n",
      "Total params: 31,098\n",
      "Trainable params: 31,098\n",
      "Non-trainable params: 0\n",
      "----------------------------------------------------------------\n",
      "Input size (MB): 0.00\n",
      "Forward/backward pass size (MB): 0.67\n",
      "Params size (MB): 0.12\n",
      "Estimated Total Size (MB): 0.79\n",
      "----------------------------------------------------------------\n",
      "train dataset size: 48000, val dataset size: 12000\n",
      "start training..\n"
     ]
    },
    {
     "name": "stderr",
     "output_type": "stream",
     "text": [
      "Eval(train): 100%|█████████████████████████████| 94/94 [00:11<00:00,  8.04it/s, train_acc=0.079979, train_loss=2.303757]\n",
      "Eval(val): 100%|███████████████████████████████████| 24/24 [00:02<00:00,  8.16it/s, val_acc=0.083167, val_loss=2.304353]\n",
      "Epoch 0: 100%|█████████████████████████████████| 94/94 [00:13<00:00,  7.13it/s, train_acc=0.909000, train_loss=0.342114]\n",
      "Eval(val): 100%|███████████████████████████████████| 24/24 [00:03<00:00,  6.92it/s, val_acc=0.971500, val_loss=0.103418]\n",
      "Epoch 1: 100%|█████████████████████████████████| 94/94 [00:13<00:00,  6.95it/s, train_acc=0.980708, train_loss=0.071778]\n",
      "Eval(val): 100%|███████████████████████████████████| 24/24 [00:03<00:00,  7.60it/s, val_acc=0.978583, val_loss=0.073740]\n",
      "Epoch 2: 100%|█████████████████████████████████| 94/94 [00:12<00:00,  7.31it/s, train_acc=0.986437, train_loss=0.049462]\n",
      "Eval(val): 100%|███████████████████████████████████| 24/24 [00:03<00:00,  7.77it/s, val_acc=0.983750, val_loss=0.055354]\n",
      "Epoch 3: 100%|█████████████████████████████████| 94/94 [00:13<00:00,  7.09it/s, train_acc=0.989104, train_loss=0.038774]\n",
      "Eval(val): 100%|███████████████████████████████████| 24/24 [00:03<00:00,  7.79it/s, val_acc=0.986083, val_loss=0.047029]\n",
      "Epoch 4: 100%|█████████████████████████████████| 94/94 [00:12<00:00,  7.25it/s, train_acc=0.991396, train_loss=0.030670]\n",
      "Eval(val): 100%|███████████████████████████████████| 24/24 [00:02<00:00,  8.68it/s, val_acc=0.984250, val_loss=0.050260]\n",
      "Epoch 5: 100%|█████████████████████████████████| 94/94 [00:13<00:00,  7.12it/s, train_acc=0.992333, train_loss=0.026688]\n",
      "Eval(val): 100%|███████████████████████████████████| 24/24 [00:02<00:00,  9.18it/s, val_acc=0.987250, val_loss=0.039597]\n",
      "Epoch 6: 100%|█████████████████████████████████| 94/94 [00:13<00:00,  7.07it/s, train_acc=0.993292, train_loss=0.023606]\n",
      "Eval(val): 100%|███████████████████████████████████| 24/24 [00:02<00:00,  8.59it/s, val_acc=0.989000, val_loss=0.033903]\n",
      "Epoch 7: 100%|█████████████████████████████████| 94/94 [00:12<00:00,  7.37it/s, train_acc=0.994687, train_loss=0.019484]\n",
      "Eval(val): 100%|███████████████████████████████████| 24/24 [00:02<00:00,  9.01it/s, val_acc=0.984583, val_loss=0.053983]\n",
      "Epoch 8: 100%|█████████████████████████████████| 94/94 [00:13<00:00,  7.09it/s, train_acc=0.995687, train_loss=0.016998]\n",
      "Eval(val): 100%|███████████████████████████████████| 24/24 [00:02<00:00,  8.11it/s, val_acc=0.988583, val_loss=0.035418]\n",
      "Epoch 9: 100%|█████████████████████████████████| 94/94 [00:13<00:00,  7.06it/s, train_acc=0.996583, train_loss=0.014108]\n",
      "Eval(val): 100%|███████████████████████████████████| 24/24 [00:02<00:00,  8.58it/s, val_acc=0.990750, val_loss=0.033238]\n",
      "Epoch 10: 100%|████████████████████████████████| 94/94 [00:12<00:00,  7.31it/s, train_acc=0.996708, train_loss=0.012621]\n",
      "Eval(val): 100%|███████████████████████████████████| 24/24 [00:03<00:00,  7.88it/s, val_acc=0.990083, val_loss=0.033418]\n",
      "Epoch 11: 100%|████████████████████████████████| 94/94 [00:12<00:00,  7.33it/s, train_acc=0.997563, train_loss=0.011205]\n",
      "Eval(val): 100%|███████████████████████████████████| 24/24 [00:02<00:00,  8.17it/s, val_acc=0.989333, val_loss=0.034980]\n",
      "Epoch 12: 100%|████████████████████████████████| 94/94 [00:13<00:00,  7.00it/s, train_acc=0.998146, train_loss=0.008921]\n",
      "Eval(val): 100%|███████████████████████████████████| 24/24 [00:03<00:00,  7.77it/s, val_acc=0.988333, val_loss=0.043350]\n",
      "Epoch 13: 100%|████████████████████████████████| 94/94 [00:13<00:00,  7.19it/s, train_acc=0.998958, train_loss=0.006805]\n",
      "Eval(val): 100%|███████████████████████████████████| 24/24 [00:02<00:00,  8.48it/s, val_acc=0.990500, val_loss=0.030527]\n",
      "Epoch 14: 100%|████████████████████████████████| 94/94 [00:13<00:00,  7.09it/s, train_acc=0.999062, train_loss=0.005804]\n",
      "Eval(val): 100%|███████████████████████████████████| 24/24 [00:02<00:00,  8.76it/s, val_acc=0.991000, val_loss=0.030804]\n",
      "Epoch 15: 100%|████████████████████████████████| 94/94 [00:13<00:00,  7.13it/s, train_acc=0.999313, train_loss=0.005376]\n",
      "Eval(val): 100%|███████████████████████████████████| 24/24 [00:03<00:00,  7.27it/s, val_acc=0.990667, val_loss=0.032652]\n",
      "Epoch 16: 100%|████████████████████████████████| 94/94 [00:13<00:00,  7.21it/s, train_acc=0.999521, train_loss=0.004458]\n",
      "Eval(val): 100%|███████████████████████████████████| 24/24 [00:03<00:00,  7.78it/s, val_acc=0.991250, val_loss=0.031721]\n",
      "Epoch 17: 100%|████████████████████████████████| 94/94 [00:13<00:00,  7.13it/s, train_acc=0.999417, train_loss=0.004353]\n",
      "Eval(val): 100%|███████████████████████████████████| 24/24 [00:02<00:00,  8.28it/s, val_acc=0.991417, val_loss=0.031255]\n",
      "Epoch 18: 100%|████████████████████████████████| 94/94 [00:12<00:00,  7.30it/s, train_acc=0.999542, train_loss=0.003800]\n",
      "Eval(val): 100%|███████████████████████████████████| 24/24 [00:02<00:00,  9.01it/s, val_acc=0.991667, val_loss=0.029534]\n",
      "Epoch 19: 100%|████████████████████████████████| 94/94 [00:13<00:00,  7.09it/s, train_acc=0.999812, train_loss=0.002882]\n",
      "Eval(val): 100%|███████████████████████████████████| 24/24 [00:02<00:00,  8.89it/s, val_acc=0.990667, val_loss=0.031000]\n"
     ]
    },
    {
     "name": "stdout",
     "output_type": "stream",
     "text": [
      "Finish Train\n"
     ]
    }
   ],
   "source": [
    "from run import call_mnist\n",
    "\n",
    "mode, path, cuda, lr, bs, es, early_stopping, early_dict = 'train', '/mnt/c/Code/DL23spring/model/MNIST/model.pth', True, 1e-3, 512, 20,True, None\n",
    "estimator = call_mnist(mode, path, cuda, lr, bs, es, early_stopping, early_dict)\n"
   ]
  },
  {
   "cell_type": "code",
   "execution_count": 7,
   "id": "32fce472",
   "metadata": {
    "pycharm": {
     "name": "#%%\n"
    }
   },
   "outputs": [
    {
     "name": "stdout",
     "output_type": "stream",
     "text": [
      "loading data..\n",
      "----------------------------------------------------------------\n",
      "        Layer (type)               Output Shape         Param #\n",
      "================================================================\n",
      "            Conv2d-1           [-1, 16, 28, 28]             160\n",
      "              ReLU-2           [-1, 16, 28, 28]               0\n",
      "            Conv2d-3           [-1, 16, 28, 28]           2,320\n",
      "       BatchNorm2d-4           [-1, 16, 28, 28]              32\n",
      "              ReLU-5           [-1, 16, 28, 28]               0\n",
      "         MaxPool2d-6           [-1, 16, 14, 14]               0\n",
      "            Conv2d-7           [-1, 32, 14, 14]          12,832\n",
      "       BatchNorm2d-8           [-1, 32, 14, 14]              64\n",
      "              ReLU-9           [-1, 32, 14, 14]               0\n",
      "        MaxPool2d-10             [-1, 32, 7, 7]               0\n",
      "          Flatten-11                 [-1, 1568]               0\n",
      "           Linear-12                   [-1, 10]          15,690\n",
      "================================================================\n",
      "Total params: 31,098\n",
      "Trainable params: 31,098\n",
      "Non-trainable params: 0\n",
      "----------------------------------------------------------------\n",
      "Input size (MB): 0.00\n",
      "Forward/backward pass size (MB): 0.67\n",
      "Params size (MB): 0.12\n",
      "Estimated Total Size (MB): 0.79\n",
      "----------------------------------------------------------------\n",
      "test dataset size: 10000\n",
      "start testing..\n"
     ]
    },
    {
     "name": "stderr",
     "output_type": "stream",
     "text": [
      "Eval(test): 100%|████████████████████████████████| 40/40 [00:02<00:00, 15.30it/s, test_acc=0.992300, test_loss=0.022632]\n"
     ]
    }
   ],
   "source": [
    "mode='test'\n",
    "estimator = call_mnist(mode, path, cuda)"
   ]
  }
 ],
 "metadata": {
  "kernelspec": {
   "display_name": "Python 3 (ipykernel)",
   "language": "python",
   "name": "python3"
  },
  "language_info": {
   "codemirror_mode": {
    "name": "ipython",
    "version": 3
   },
   "file_extension": ".py",
   "mimetype": "text/x-python",
   "name": "python",
   "nbconvert_exporter": "python",
   "pygments_lexer": "ipython3",
   "version": "3.7.0"
  }
 },
 "nbformat": 4,
 "nbformat_minor": 5
}
