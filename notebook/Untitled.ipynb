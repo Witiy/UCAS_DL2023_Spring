{
 "cells": [
  {
   "cell_type": "code",
   "execution_count": 9,
   "id": "28adcccd",
   "metadata": {},
   "outputs": [],
   "source": [
    "%matplotlib inline"
   ]
  },
  {
   "cell_type": "code",
   "execution_count": 10,
   "id": "706f7d15",
   "metadata": {},
   "outputs": [],
   "source": [
    "import sys\n",
    "import os\n",
    "PROJ_DIR = '/mnt/c/Code/DL23spring/'\n",
    "sys.path.append(PROJ_DIR)"
   ]
  },
  {
   "cell_type": "code",
   "execution_count": 11,
   "id": "f9cb5519",
   "metadata": {},
   "outputs": [
    {
     "name": "stdout",
     "output_type": "stream",
     "text": [
      "loading data..\n",
      "train dataset size: 60000, test dataset size: 10000\n",
      "start training..\n",
      "Begin with: train_loss : 0.0045 test_loss : 0.0023 train_acc : 12.6317 test_acc : 12.6900 \n"
     ]
    },
    {
     "name": "stderr",
     "output_type": "stream",
     "text": [
      "  5%|████▏                                                                               | 1/20 [00:30<09:47, 30.93s/it]"
     ]
    },
    {
     "name": "stdout",
     "output_type": "stream",
     "text": [
      "Epoch 0: train_loss : 0.0002 test_loss : 0.0001 train_acc : 97.7400 test_acc : 97.6500 \n"
     ]
    },
    {
     "name": "stderr",
     "output_type": "stream",
     "text": [
      "\r",
      " 10%|████████▍                                                                           | 2/20 [00:52<07:40, 25.58s/it]"
     ]
    },
    {
     "name": "stdout",
     "output_type": "stream",
     "text": [
      "Epoch 1: train_loss : 0.0001 test_loss : 0.0000 train_acc : 98.7183 test_acc : 98.5500 \n"
     ]
    },
    {
     "name": "stderr",
     "output_type": "stream",
     "text": [
      "\r",
      " 15%|████████████▌                                                                       | 3/20 [01:14<06:43, 23.72s/it]"
     ]
    },
    {
     "name": "stdout",
     "output_type": "stream",
     "text": [
      "Epoch 2: train_loss : 0.0001 test_loss : 0.0000 train_acc : 99.0650 test_acc : 98.7500 \n"
     ]
    },
    {
     "name": "stderr",
     "output_type": "stream",
     "text": [
      "\r",
      " 20%|████████████████▊                                                                   | 4/20 [01:35<06:03, 22.75s/it]"
     ]
    },
    {
     "name": "stdout",
     "output_type": "stream",
     "text": [
      "Epoch 3: train_loss : 0.0001 test_loss : 0.0000 train_acc : 99.1467 test_acc : 98.9600 \n"
     ]
    },
    {
     "name": "stderr",
     "output_type": "stream",
     "text": [
      "\r",
      " 25%|█████████████████████                                                               | 5/20 [01:57<05:35, 22.38s/it]"
     ]
    },
    {
     "name": "stdout",
     "output_type": "stream",
     "text": [
      "Epoch 4: train_loss : 0.0000 test_loss : 0.0000 train_acc : 99.3467 test_acc : 99.1300 \n"
     ]
    },
    {
     "name": "stderr",
     "output_type": "stream",
     "text": [
      "\r",
      " 30%|█████████████████████████▏                                                          | 6/20 [02:19<05:13, 22.41s/it]"
     ]
    },
    {
     "name": "stdout",
     "output_type": "stream",
     "text": [
      "Epoch 5: train_loss : 0.0000 test_loss : 0.0000 train_acc : 99.2417 test_acc : 99.0100 \n"
     ]
    },
    {
     "name": "stderr",
     "output_type": "stream",
     "text": [
      "\r",
      " 35%|█████████████████████████████▍                                                      | 7/20 [02:41<04:48, 22.19s/it]"
     ]
    },
    {
     "name": "stdout",
     "output_type": "stream",
     "text": [
      "Epoch 6: train_loss : 0.0000 test_loss : 0.0000 train_acc : 99.6517 test_acc : 99.1800 \n"
     ]
    },
    {
     "name": "stderr",
     "output_type": "stream",
     "text": [
      "\r",
      " 40%|█████████████████████████████████▌                                                  | 8/20 [03:03<04:24, 22.07s/it]"
     ]
    },
    {
     "name": "stdout",
     "output_type": "stream",
     "text": [
      "Epoch 7: train_loss : 0.0000 test_loss : 0.0000 train_acc : 99.5817 test_acc : 99.1000 \n"
     ]
    },
    {
     "name": "stderr",
     "output_type": "stream",
     "text": [
      "\r",
      " 45%|█████████████████████████████████████▊                                              | 9/20 [03:25<04:02, 22.03s/it]"
     ]
    },
    {
     "name": "stdout",
     "output_type": "stream",
     "text": [
      "Epoch 8: train_loss : 0.0000 test_loss : 0.0000 train_acc : 99.7617 test_acc : 99.1700 \n"
     ]
    },
    {
     "name": "stderr",
     "output_type": "stream",
     "text": [
      "\r",
      " 50%|█████████████████████████████████████████▌                                         | 10/20 [03:47<03:41, 22.15s/it]"
     ]
    },
    {
     "name": "stdout",
     "output_type": "stream",
     "text": [
      "Epoch 9: train_loss : 0.0000 test_loss : 0.0000 train_acc : 99.7317 test_acc : 99.0800 \n"
     ]
    },
    {
     "name": "stderr",
     "output_type": "stream",
     "text": [
      "\r",
      " 55%|█████████████████████████████████████████████▋                                     | 11/20 [04:09<03:19, 22.17s/it]"
     ]
    },
    {
     "name": "stdout",
     "output_type": "stream",
     "text": [
      "Epoch 10: train_loss : 0.0000 test_loss : 0.0000 train_acc : 99.8300 test_acc : 99.2400 \n"
     ]
    },
    {
     "name": "stderr",
     "output_type": "stream",
     "text": [
      "\r",
      " 60%|█████████████████████████████████████████████████▊                                 | 12/20 [04:32<02:57, 22.17s/it]"
     ]
    },
    {
     "name": "stdout",
     "output_type": "stream",
     "text": [
      "Epoch 11: train_loss : 0.0000 test_loss : 0.0000 train_acc : 99.8417 test_acc : 99.2000 \n"
     ]
    },
    {
     "name": "stderr",
     "output_type": "stream",
     "text": [
      "\r",
      " 65%|█████████████████████████████████████████████████████▉                             | 13/20 [04:54<02:36, 22.30s/it]"
     ]
    },
    {
     "name": "stdout",
     "output_type": "stream",
     "text": [
      "Epoch 12: train_loss : 0.0000 test_loss : 0.0000 train_acc : 99.8800 test_acc : 99.2500 \n"
     ]
    },
    {
     "name": "stderr",
     "output_type": "stream",
     "text": [
      "\r",
      " 70%|██████████████████████████████████████████████████████████                         | 14/20 [05:18<02:15, 22.64s/it]"
     ]
    },
    {
     "name": "stdout",
     "output_type": "stream",
     "text": [
      "Epoch 13: train_loss : 0.0000 test_loss : 0.0000 train_acc : 99.9533 test_acc : 99.1700 \n"
     ]
    },
    {
     "name": "stderr",
     "output_type": "stream",
     "text": [
      "\r",
      " 75%|██████████████████████████████████████████████████████████████▎                    | 15/20 [05:41<01:54, 22.95s/it]"
     ]
    },
    {
     "name": "stdout",
     "output_type": "stream",
     "text": [
      "Epoch 14: train_loss : 0.0000 test_loss : 0.0000 train_acc : 99.9567 test_acc : 99.3700 \n"
     ]
    },
    {
     "name": "stderr",
     "output_type": "stream",
     "text": [
      "\r",
      " 80%|██████████████████████████████████████████████████████████████████▍                | 16/20 [06:06<01:33, 23.38s/it]"
     ]
    },
    {
     "name": "stdout",
     "output_type": "stream",
     "text": [
      "Epoch 15: train_loss : 0.0000 test_loss : 0.0000 train_acc : 99.8817 test_acc : 99.1300 \n"
     ]
    },
    {
     "name": "stderr",
     "output_type": "stream",
     "text": [
      "\r",
      " 85%|██████████████████████████████████████████████████████████████████████▌            | 17/20 [06:32<01:12, 24.25s/it]"
     ]
    },
    {
     "name": "stdout",
     "output_type": "stream",
     "text": [
      "Epoch 16: train_loss : 0.0000 test_loss : 0.0000 train_acc : 99.9367 test_acc : 99.2800 \n"
     ]
    },
    {
     "name": "stderr",
     "output_type": "stream",
     "text": [
      "\r",
      " 90%|██████████████████████████████████████████████████████████████████████████▋        | 18/20 [07:02<00:52, 26.02s/it]"
     ]
    },
    {
     "name": "stdout",
     "output_type": "stream",
     "text": [
      "Epoch 17: train_loss : 0.0000 test_loss : 0.0000 train_acc : 99.9867 test_acc : 99.3100 \n"
     ]
    },
    {
     "name": "stderr",
     "output_type": "stream",
     "text": [
      "\r",
      " 95%|██████████████████████████████████████████████████████████████████████████████▊    | 19/20 [07:30<00:26, 26.55s/it]"
     ]
    },
    {
     "name": "stdout",
     "output_type": "stream",
     "text": [
      "Epoch 18: train_loss : 0.0000 test_loss : 0.0000 train_acc : 99.9750 test_acc : 99.2800 \n"
     ]
    },
    {
     "name": "stderr",
     "output_type": "stream",
     "text": [
      "100%|███████████████████████████████████████████████████████████████████████████████████| 20/20 [07:56<00:00, 23.83s/it]"
     ]
    },
    {
     "name": "stdout",
     "output_type": "stream",
     "text": [
      "Epoch 19: train_loss : 0.0000 test_loss : 0.0000 train_acc : 99.6517 test_acc : 98.8900 \n",
      "Finish Train\n"
     ]
    },
    {
     "name": "stderr",
     "output_type": "stream",
     "text": [
      "\n"
     ]
    }
   ],
   "source": [
    "from run import call_mnist\n",
    "\n",
    "mode, path, cuda, lr, bs, es, early_stopping, early_dict = 'Train', '/mnt/c/Code/DL23spring/model/MNIST/model.pth', True, 1e-3, 512, 20,True, None\n",
    "estimator = call_mnist(mode, path, cuda, lr, bs, es, early_stopping, early_dict)\n"
   ]
  },
  {
   "cell_type": "code",
   "execution_count": 7,
   "id": "7feb13b6",
   "metadata": {},
   "outputs": [
    {
     "data": {
      "image/png": "[encoded data removed]",
      "text/plain": [
       "<Figure size 640x480 with 1 Axes>"
      ]
     },
     "metadata": {},
     "output_type": "display_data"
    }
   ],
   "source": [
    "estimator.plot_history()"
   ]
  },
  {
   "cell_type": "code",
   "execution_count": 8,
   "id": "32fce472",
   "metadata": {},
   "outputs": [
    {
     "name": "stdout",
     "output_type": "stream",
     "text": [
      "loading data..\n",
      "train dataset size: 60000, test dataset size: 10000\n",
      "start testing..\n",
      "testset: loss 0.0001, acc 99.0500% "
     ]
    },
    {
     "data": {
      "text/plain": [
       "<MyEstimator.Estimator at 0x7f3843047320>"
      ]
     },
     "execution_count": 8,
     "metadata": {},
     "output_type": "execute_result"
    }
   ],
   "source": [
    "mode='test'\n",
    "call_mnist(mode, path, cuda, lr, bs, es, early_stopping, early_dict)"
   ]
  },
  {
   "cell_type": "code",
   "execution_count": null,
   "id": "960819dc",
   "metadata": {},
   "outputs": [],
   "source": []
  }
 ],
 "metadata": {
  "kernelspec": {
   "display_name": "Python 3 (ipykernel)",
   "language": "python",
   "name": "python3"
  },
  "language_info": {
   "codemirror_mode": {
    "name": "ipython",
    "version": 3
   },
   "file_extension": ".py",
   "mimetype": "text/x-python",
   "name": "python",
   "nbconvert_exporter": "python",
   "pygments_lexer": "ipython3",
   "version": "3.7.0"
  }
 },
 "nbformat": 4,
 "nbformat_minor": 5
}
